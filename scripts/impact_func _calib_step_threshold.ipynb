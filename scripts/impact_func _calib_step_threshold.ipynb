{
 "cells": [
  {
   "attachments": {},
   "cell_type": "markdown",
   "id": "ac4e2042-56d2-45f8-9f25-628623afb4c9",
   "metadata": {},
   "source": [
    "## Calibration modelling approach\n",
    "\n",
    "This Jupyter notebook script reproduce part of the results in the manuscript **\"Advancing human displacement modelling: A case study of the 2022 summer floods in Pakistan\"**, submitted to Earth's Future for peer-review.\n",
    "\n",
    "This scrpt contains the code to calibrate the best-fit flood depth threshold parameter for the impact functions using the reported displacement number form PDMA (2022) (methods described in the manuscript section 2.4.2). \n",
    "\n",
    "The script also includes the estimation of the uncertainty bounds, ultimately producing the plot Figure 2b in the manuscript."
   ]
  },
  {
   "cell_type": "markdown",
   "id": "86ba4068-c3ac-4e33-9f67-62074cbac552",
   "metadata": {},
   "source": [
    "#### Loading the displacement data and the shape file in Sindh Province."
   ]
  },
  {
   "cell_type": "code",
   "execution_count": 1,
   "id": "a5a70463-5926-49f9-8484-15c77394cfa8",
   "metadata": {
    "tags": []
   },
   "outputs": [
    {
     "name": "stderr",
     "output_type": "stream",
     "text": [
      "/Users/kampu/opt/anaconda3/envs/climada_dev/lib/python3.9/site-packages/dask/dataframe/_pyarrow_compat.py:17: FutureWarning: Minimal version of pyarrow will soon be increased to 14.0.1. You are using 12.0.1. Please consider upgrading.\n",
      "  warnings.warn(\n"
     ]
    }
   ],
   "source": [
    "# Load displacement data\n",
    "from pathlib import Path\n",
    "\n",
    "import pandas as pd\n",
    "import geopandas as gpd\n",
    "\n",
    "from climada.util.constants import DEF_CRS\n",
    "\n",
    "# Mapping from data columns to exposure regions\n",
    "\n",
    "# Load the true data\n",
    "# Create the data frame for the true impact data\n",
    "DISPLACEMENT_DATA_PATH = Path(\"../data/displacement_data/PDMA_report_sep_17.xlsx\")\n",
    "displacement_data = pd.read_excel(DISPLACEMENT_DATA_PATH)\n",
    "\n",
    "# Load the Pakistan shapefile\n",
    "SHAPEFILE_PATH = Path(\n",
    "    \"../data/boundaries/pak_adm_wfp_20220909_shp/pak_admbnda_adm2_wfp_20220909.shp\"\n",
    ")\n",
    "shapefile_pakistan = gpd.read_file(SHAPEFILE_PATH).to_crs(DEF_CRS)\n",
    "\n",
    "# Carve out Sindh provinces\n",
    "sindh_provinces = shapefile_pakistan.loc[shapefile_pakistan[\"ADM1_EN\"] == \"Sindh\"]\n"
   ]
  },
  {
   "cell_type": "code",
   "execution_count": 2,
   "id": "2956dd6d-f3e9-4db7-92e7-5e4a656c2c3e",
   "metadata": {
    "tags": []
   },
   "outputs": [
    {
     "data": {
      "text/html": [
       "<div>\n",
       "<style scoped>\n",
       "    .dataframe tbody tr th:only-of-type {\n",
       "        vertical-align: middle;\n",
       "    }\n",
       "\n",
       "    .dataframe tbody tr th {\n",
       "        vertical-align: top;\n",
       "    }\n",
       "\n",
       "    .dataframe thead th {\n",
       "        text-align: right;\n",
       "    }\n",
       "</style>\n",
       "<table border=\"1\" class=\"dataframe\">\n",
       "  <thead>\n",
       "    <tr style=\"text-align: right;\">\n",
       "      <th></th>\n",
       "      <th>Khairpur</th>\n",
       "      <th>Larkana</th>\n",
       "      <th>Dadu</th>\n",
       "      <th>Umer Kot</th>\n",
       "      <th>Mirpur Khas</th>\n",
       "      <th>Kambar Shahdad Kot</th>\n",
       "      <th>Shaheed Benazir Abad</th>\n",
       "      <th>Sanghar</th>\n",
       "      <th>Kashmore</th>\n",
       "      <th>Jacobabad</th>\n",
       "      <th>...</th>\n",
       "      <th>Badin</th>\n",
       "      <th>Sujawal</th>\n",
       "      <th>Ghotki</th>\n",
       "      <th>Matiari</th>\n",
       "      <th>Hyderabad</th>\n",
       "      <th>Tando Allahyar</th>\n",
       "      <th>Sukkur</th>\n",
       "      <th>Tharparkar</th>\n",
       "      <th>Tando Muhammad Khan</th>\n",
       "      <th>Karachi</th>\n",
       "    </tr>\n",
       "  </thead>\n",
       "  <tbody>\n",
       "    <tr>\n",
       "      <th>0</th>\n",
       "      <td>1218177</td>\n",
       "      <td>1071333</td>\n",
       "      <td>804271</td>\n",
       "      <td>557280</td>\n",
       "      <td>472168</td>\n",
       "      <td>390245</td>\n",
       "      <td>389529</td>\n",
       "      <td>315444</td>\n",
       "      <td>311262</td>\n",
       "      <td>256584</td>\n",
       "      <td>...</td>\n",
       "      <td>96073</td>\n",
       "      <td>95715</td>\n",
       "      <td>84339</td>\n",
       "      <td>51000</td>\n",
       "      <td>33700</td>\n",
       "      <td>27377</td>\n",
       "      <td>19500</td>\n",
       "      <td>19315</td>\n",
       "      <td>15500</td>\n",
       "      <td>508</td>\n",
       "    </tr>\n",
       "  </tbody>\n",
       "</table>\n",
       "<p>1 rows × 24 columns</p>\n",
       "</div>"
      ],
      "text/plain": [
       "   Khairpur  Larkana    Dadu  Umer Kot  Mirpur Khas  Kambar Shahdad Kot  \\\n",
       "0   1218177  1071333  804271    557280       472168              390245   \n",
       "\n",
       "   Shaheed Benazir Abad  Sanghar  Kashmore  Jacobabad  ...  Badin  Sujawal  \\\n",
       "0                389529   315444    311262     256584  ...  96073    95715   \n",
       "\n",
       "   Ghotki  Matiari  Hyderabad  Tando Allahyar  Sukkur  Tharparkar  \\\n",
       "0   84339    51000      33700           27377   19500       19315   \n",
       "\n",
       "   Tando Muhammad Khan  Karachi  \n",
       "0                15500      508  \n",
       "\n",
       "[1 rows x 24 columns]"
      ]
     },
     "execution_count": 2,
     "metadata": {},
     "output_type": "execute_result"
    }
   ],
   "source": [
    "displacement_data"
   ]
  },
  {
   "attachments": {},
   "cell_type": "markdown",
   "id": "cbdabdc6-4139-49c3-8382-876cc909413e",
   "metadata": {},
   "source": [
    "#### Load the population count data\n",
    "The constrained population data for the year 2020 is downloaded from WorldPop ([Tatem, 2017](https://www.nature.com/articles/sdata20174)), available at resolution of ~100m. Further information please refer to [https://hub.worldpop.org/geodata/summary?id=50043](https://hub.worldpop.org/geodata/summary?id=50043)."
   ]
  },
  {
   "cell_type": "code",
   "execution_count": 3,
   "id": "a2c508ca-0733-46b8-bf6b-f260bd9e9441",
   "metadata": {
    "tags": []
   },
   "outputs": [],
   "source": [
    "from pathlib import Path\n",
    "\n",
    "import shapely\n",
    "\n",
    "from climada.entity import Exposures\n",
    "from climada.util.constants import DEF_CRS\n",
    "\n",
    "# Load WorldPop\n",
    "WORLD_POP_PAK_PATH = Path(\"../data/population/pak_ppp_2020_UNadj_constrained.tif\")\n",
    "\n",
    "exposure = Exposures.from_raster(\n",
    "    WORLD_POP_PAK_PATH,\n",
    "    dst_crs=DEF_CRS,\n",
    "    geometry=[shapely.union_all(sindh_provinces[\"geometry\"])],\n",
    ")\n",
    "exposure.set_geometry_points()\n",
    "exposure.gdf = exposure.gdf.loc[exposure.gdf[\"value\"] > 0, :]  # Only retain values > 0\n",
    "exposure.gdf[\"impf_FL\"] = 1"
   ]
  },
  {
   "cell_type": "code",
   "execution_count": 4,
   "id": "e09cf577-4098-459c-9022-df173dbaa8ec",
   "metadata": {
    "tags": []
   },
   "outputs": [],
   "source": [
    "# Assign Admin3 regions\n",
    "gdf_joined = exposure.gdf.sjoin(sindh_provinces, how=\"left\", predicate=\"within\")\n",
    "\n",
    "# Merge Karachi regions\n",
    "adm2 = gdf_joined[\"ADM2_EN\"]\n",
    "adm2[adm2.str.contains(\"Karachi\")] = \"Karachi\"\n",
    "gdf_joined[\"ADM2_EN\"] = adm2\n",
    "\n",
    "# Set new gdf\n",
    "exposure.set_gdf(gdf_joined)"
   ]
  },
  {
   "cell_type": "markdown",
   "id": "2050c869-0eb6-4573-962d-a4d4d4add414",
   "metadata": {},
   "source": [
    "#### Load the flood depth data\n",
    "\n",
    "The flood depth data is calculated following section 2.2 in the manuscript."
   ]
  },
  {
   "cell_type": "code",
   "execution_count": 5,
   "id": "2422e664-891c-45c1-84ae-acb60808dca8",
   "metadata": {
    "tags": []
   },
   "outputs": [],
   "source": [
    "from climada.hazard import Hazard\n",
    "from rasterio.warp import Resampling\n",
    "\n",
    "HAZ_TYPE ='FL'\n",
    "HAZ_FILE = '../data/flood_depth/sindh_flooddepth1.tif'\n",
    "\n",
    "hazard = Hazard.from_raster(HAZ_FILE, \n",
    "                            haz_type=HAZ_TYPE,\n",
    "                            transform=exposure.meta['transform'],\n",
    "                            height=exposure.meta['height'],\n",
    "                            width=exposure.meta['width'],\n",
    "                            resampling=Resampling.bilinear)"
   ]
  },
  {
   "cell_type": "markdown",
   "id": "6c552a78-d6fb-4de2-9ebe-1db2254f25b0",
   "metadata": {
    "tags": []
   },
   "source": [
    "#### Run the optimisation"
   ]
  },
  {
   "cell_type": "code",
   "execution_count": 6,
   "id": "0b12ee5e-befb-4e05-956a-079dec54f3fe",
   "metadata": {
    "tags": []
   },
   "outputs": [],
   "source": [
    "from climada.entity import ImpactFunc, ImpactFuncSet\n",
    "\n",
    "# define the impact function\n",
    "def impf_set_step(threshold):\n",
    "    impf_step = ImpactFunc.from_step_impf(intensity=(0,threshold,10),\n",
    "                                        haz_type='FL')\n",
    "    impf_step.name = 'FL sigmoid func'\n",
    "    impf_step.intensity_unit = 'm'\n",
    "\n",
    "    impf_set = ImpactFuncSet()\n",
    "    impf_set.append(impf_step)\n",
    "    \n",
    "    return impf_set"
   ]
  },
  {
   "cell_type": "code",
   "execution_count": 7,
   "id": "8c0eaf00-3f74-4c71-a2b6-cbcf4a02a607",
   "metadata": {
    "tags": []
   },
   "outputs": [],
   "source": [
    "df = displacement_data.set_index(pd.Series([1]))\n",
    "df = df.reindex(sorted(df.columns), axis=1)"
   ]
  },
  {
   "cell_type": "code",
   "execution_count": 8,
   "id": "cbb6db93-530e-4013-984b-097ae4ed98fa",
   "metadata": {
    "tags": []
   },
   "outputs": [
    {
     "data": {
      "text/html": [
       "<div>\n",
       "<style scoped>\n",
       "    .dataframe tbody tr th:only-of-type {\n",
       "        vertical-align: middle;\n",
       "    }\n",
       "\n",
       "    .dataframe tbody tr th {\n",
       "        vertical-align: top;\n",
       "    }\n",
       "\n",
       "    .dataframe thead th {\n",
       "        text-align: right;\n",
       "    }\n",
       "</style>\n",
       "<table border=\"1\" class=\"dataframe\">\n",
       "  <thead>\n",
       "    <tr style=\"text-align: right;\">\n",
       "      <th></th>\n",
       "      <th>Badin</th>\n",
       "      <th>Dadu</th>\n",
       "      <th>Ghotki</th>\n",
       "      <th>Hyderabad</th>\n",
       "      <th>Jacobabad</th>\n",
       "      <th>Jamshoro</th>\n",
       "      <th>Kambar Shahdad Kot</th>\n",
       "      <th>Karachi</th>\n",
       "      <th>Kashmore</th>\n",
       "      <th>Khairpur</th>\n",
       "      <th>...</th>\n",
       "      <th>Sanghar</th>\n",
       "      <th>Shaheed Benazir Abad</th>\n",
       "      <th>Shikarpur</th>\n",
       "      <th>Sujawal</th>\n",
       "      <th>Sukkur</th>\n",
       "      <th>Tando Allahyar</th>\n",
       "      <th>Tando Muhammad Khan</th>\n",
       "      <th>Tharparkar</th>\n",
       "      <th>Thatta</th>\n",
       "      <th>Umer Kot</th>\n",
       "    </tr>\n",
       "  </thead>\n",
       "  <tbody>\n",
       "    <tr>\n",
       "      <th>1</th>\n",
       "      <td>96073</td>\n",
       "      <td>804271</td>\n",
       "      <td>84339</td>\n",
       "      <td>33700</td>\n",
       "      <td>256584</td>\n",
       "      <td>176900</td>\n",
       "      <td>390245</td>\n",
       "      <td>508</td>\n",
       "      <td>311262</td>\n",
       "      <td>1218177</td>\n",
       "      <td>...</td>\n",
       "      <td>315444</td>\n",
       "      <td>389529</td>\n",
       "      <td>120000</td>\n",
       "      <td>95715</td>\n",
       "      <td>19500</td>\n",
       "      <td>27377</td>\n",
       "      <td>15500</td>\n",
       "      <td>19315</td>\n",
       "      <td>137236</td>\n",
       "      <td>557280</td>\n",
       "    </tr>\n",
       "  </tbody>\n",
       "</table>\n",
       "<p>1 rows × 24 columns</p>\n",
       "</div>"
      ],
      "text/plain": [
       "   Badin    Dadu  Ghotki  Hyderabad  Jacobabad  Jamshoro  Kambar Shahdad Kot  \\\n",
       "1  96073  804271   84339      33700     256584    176900              390245   \n",
       "\n",
       "   Karachi  Kashmore  Khairpur  ...  Sanghar  Shaheed Benazir Abad  Shikarpur  \\\n",
       "1      508    311262   1218177  ...   315444                389529     120000   \n",
       "\n",
       "   Sujawal  Sukkur  Tando Allahyar  Tando Muhammad Khan  Tharparkar  Thatta  \\\n",
       "1    95715   19500           27377                15500       19315  137236   \n",
       "\n",
       "   Umer Kot  \n",
       "1    557280  \n",
       "\n",
       "[1 rows x 24 columns]"
      ]
     },
     "execution_count": 8,
     "metadata": {},
     "output_type": "execute_result"
    }
   ],
   "source": [
    "df"
   ]
  },
  {
   "cell_type": "code",
   "execution_count": 9,
   "id": "4f378f8c-9e55-4c9d-b3f7-d211a9fe9319",
   "metadata": {
    "tags": []
   },
   "outputs": [],
   "source": [
    "# define the cost function\n",
    "def rmsf2(impact: pd.DataFrame, data: pd.DataFrame):\n",
    "    return np.exp(\n",
    "            np.sqrt(\n",
    "                np.mean(\n",
    "                    ((np.log((impact + 1) / (data + 1)) ** 2).to_numpy())\n",
    "                )\n",
    "            )\n",
    "    )"
   ]
  },
  {
   "cell_type": "code",
   "execution_count": 10,
   "id": "adfb66a9-3067-4e87-a6a4-c56be39492d8",
   "metadata": {},
   "outputs": [
    {
     "data": {
      "text/plain": [
       "{'threshold': 0.6718699790792863}"
      ]
     },
     "execution_count": 10,
     "metadata": {},
     "output_type": "execute_result"
    }
   ],
   "source": [
    "# Here runs the optimisation\n",
    "\n",
    "import numpy as np\n",
    "import pandas as pd\n",
    "from functools import partial\n",
    "\n",
    "from climada.engine import ImpactCalc\n",
    "from climada.engine import  Impact\n",
    "\n",
    "from climada.util.calibrate import Input, BayesianOptimizer, BayesianOptimizerController\n",
    "\n",
    "\n",
    "input = Input(\n",
    "    hazard=hazard,\n",
    "    exposure=exposure,\n",
    "    data=df,\n",
    "    bounds={\"threshold\": (0.1, 3)},\n",
    "    cost_func=rmsf2,\n",
    "    impact_func_creator=impf_set_step,\n",
    "    impact_to_dataframe=lambda imp: imp.impact_at_reg(exposure.gdf[\"ADM2_EN\"]),\n",
    "    impact_calc_kwds={\"assign_centroids\": False, \"save_mat\": True},\n",
    ")\n",
    "\n",
    "\n",
    "# Create and run the optimizer\n",
    "opt = BayesianOptimizer(input)\n",
    "controller = BayesianOptimizerController.from_input(input, sampling_base=32)\n",
    "bayes_output = opt.run(controller)\n",
    "\n",
    "#bayes_output_rmsf = opt.run(n_iter=200)\n",
    "bayes_output.params  # The optimal parameters"
   ]
  },
  {
   "cell_type": "code",
   "execution_count": 11,
   "id": "10253dd7-50a8-40df-96bc-159711a2b68e",
   "metadata": {
    "tags": []
   },
   "outputs": [
    {
     "data": {
      "text/html": [
       "<div>\n",
       "<style scoped>\n",
       "    .dataframe tbody tr th:only-of-type {\n",
       "        vertical-align: middle;\n",
       "    }\n",
       "\n",
       "    .dataframe tbody tr th {\n",
       "        vertical-align: top;\n",
       "    }\n",
       "\n",
       "    .dataframe thead tr th {\n",
       "        text-align: left;\n",
       "    }\n",
       "\n",
       "    .dataframe thead tr:last-of-type th {\n",
       "        text-align: right;\n",
       "    }\n",
       "</style>\n",
       "<table border=\"1\" class=\"dataframe\">\n",
       "  <thead>\n",
       "    <tr>\n",
       "      <th></th>\n",
       "      <th>Parameters</th>\n",
       "      <th>Calibration</th>\n",
       "    </tr>\n",
       "    <tr>\n",
       "      <th></th>\n",
       "      <th>threshold</th>\n",
       "      <th>Cost Function</th>\n",
       "    </tr>\n",
       "    <tr>\n",
       "      <th>Iteration</th>\n",
       "      <th></th>\n",
       "      <th></th>\n",
       "    </tr>\n",
       "  </thead>\n",
       "  <tbody>\n",
       "    <tr>\n",
       "      <th>0</th>\n",
       "      <td>1.309364</td>\n",
       "      <td>5.016370</td>\n",
       "    </tr>\n",
       "    <tr>\n",
       "      <th>1</th>\n",
       "      <td>2.188941</td>\n",
       "      <td>7.509003</td>\n",
       "    </tr>\n",
       "    <tr>\n",
       "      <th>2</th>\n",
       "      <td>0.100332</td>\n",
       "      <td>5.403324</td>\n",
       "    </tr>\n",
       "    <tr>\n",
       "      <th>3</th>\n",
       "      <td>0.976764</td>\n",
       "      <td>4.598538</td>\n",
       "    </tr>\n",
       "    <tr>\n",
       "      <th>4</th>\n",
       "      <td>0.525592</td>\n",
       "      <td>4.599320</td>\n",
       "    </tr>\n",
       "    <tr>\n",
       "      <th>...</th>\n",
       "      <td>...</td>\n",
       "      <td>...</td>\n",
       "    </tr>\n",
       "    <tr>\n",
       "      <th>123</th>\n",
       "      <td>0.671030</td>\n",
       "      <td>4.536164</td>\n",
       "    </tr>\n",
       "    <tr>\n",
       "      <th>124</th>\n",
       "      <td>0.671026</td>\n",
       "      <td>4.536167</td>\n",
       "    </tr>\n",
       "    <tr>\n",
       "      <th>125</th>\n",
       "      <td>0.671026</td>\n",
       "      <td>4.536167</td>\n",
       "    </tr>\n",
       "    <tr>\n",
       "      <th>126</th>\n",
       "      <td>0.671024</td>\n",
       "      <td>4.536167</td>\n",
       "    </tr>\n",
       "    <tr>\n",
       "      <th>127</th>\n",
       "      <td>0.671022</td>\n",
       "      <td>4.536167</td>\n",
       "    </tr>\n",
       "  </tbody>\n",
       "</table>\n",
       "<p>128 rows × 2 columns</p>\n",
       "</div>"
      ],
      "text/plain": [
       "          Parameters   Calibration\n",
       "           threshold Cost Function\n",
       "Iteration                         \n",
       "0           1.309364      5.016370\n",
       "1           2.188941      7.509003\n",
       "2           0.100332      5.403324\n",
       "3           0.976764      4.598538\n",
       "4           0.525592      4.599320\n",
       "...              ...           ...\n",
       "123         0.671030      4.536164\n",
       "124         0.671026      4.536167\n",
       "125         0.671026      4.536167\n",
       "126         0.671024      4.536167\n",
       "127         0.671022      4.536167\n",
       "\n",
       "[128 rows x 2 columns]"
      ]
     },
     "execution_count": 11,
     "metadata": {},
     "output_type": "execute_result"
    }
   ],
   "source": [
    "# Output the results into a dataframe\n",
    "\n",
    "data = bayes_output.p_space_to_dataframe()\n",
    "data"
   ]
  },
  {
   "cell_type": "code",
   "execution_count": 12,
   "id": "833dc188-a3f9-4bf3-b497-6261a21b8ca0",
   "metadata": {
    "tags": []
   },
   "outputs": [
    {
     "data": {
      "text/plain": [
       "<matplotlib.collections.PathCollection at 0x7fed54ef4f10>"
      ]
     },
     "execution_count": 12,
     "metadata": {},
     "output_type": "execute_result"
    },
    {
     "data": {
      "image/png": "[encoded data removed]",
      "text/plain": [
       "<Figure size 640x480 with 1 Axes>"
      ]
     },
     "metadata": {},
     "output_type": "display_data"
    }
   ],
   "source": [
    "import matplotlib.pyplot as plt\n",
    "\n",
    "plt.scatter(data['Parameters'], data['Calibration'])\n",
    "#plt.ylim(0,20)"
   ]
  },
  {
   "cell_type": "code",
   "execution_count": 13,
   "id": "2f284399-898d-49d6-9920-8f849795a241",
   "metadata": {
    "tags": []
   },
   "outputs": [
    {
     "data": {
      "text/html": [
       "<div>\n",
       "<style scoped>\n",
       "    .dataframe tbody tr th:only-of-type {\n",
       "        vertical-align: middle;\n",
       "    }\n",
       "\n",
       "    .dataframe tbody tr th {\n",
       "        vertical-align: top;\n",
       "    }\n",
       "\n",
       "    .dataframe thead tr th {\n",
       "        text-align: left;\n",
       "    }\n",
       "</style>\n",
       "<table border=\"1\" class=\"dataframe\">\n",
       "  <thead>\n",
       "    <tr>\n",
       "      <th></th>\n",
       "      <th>Parameters</th>\n",
       "      <th>Calibration</th>\n",
       "    </tr>\n",
       "    <tr>\n",
       "      <th></th>\n",
       "      <th>threshold</th>\n",
       "      <th>Cost Function</th>\n",
       "    </tr>\n",
       "  </thead>\n",
       "  <tbody>\n",
       "    <tr>\n",
       "      <th>0</th>\n",
       "      <td>0.976764</td>\n",
       "      <td>4.598538</td>\n",
       "    </tr>\n",
       "    <tr>\n",
       "      <th>1</th>\n",
       "      <td>0.525592</td>\n",
       "      <td>4.599320</td>\n",
       "    </tr>\n",
       "    <tr>\n",
       "      <th>2</th>\n",
       "      <td>0.367782</td>\n",
       "      <td>4.728706</td>\n",
       "    </tr>\n",
       "    <tr>\n",
       "      <th>3</th>\n",
       "      <td>0.640155</td>\n",
       "      <td>4.549127</td>\n",
       "    </tr>\n",
       "    <tr>\n",
       "      <th>4</th>\n",
       "      <td>1.102126</td>\n",
       "      <td>4.698336</td>\n",
       "    </tr>\n",
       "    <tr>\n",
       "      <th>...</th>\n",
       "      <td>...</td>\n",
       "      <td>...</td>\n",
       "    </tr>\n",
       "    <tr>\n",
       "      <th>80</th>\n",
       "      <td>0.671030</td>\n",
       "      <td>4.536164</td>\n",
       "    </tr>\n",
       "    <tr>\n",
       "      <th>81</th>\n",
       "      <td>0.671026</td>\n",
       "      <td>4.536167</td>\n",
       "    </tr>\n",
       "    <tr>\n",
       "      <th>82</th>\n",
       "      <td>0.671026</td>\n",
       "      <td>4.536167</td>\n",
       "    </tr>\n",
       "    <tr>\n",
       "      <th>83</th>\n",
       "      <td>0.671024</td>\n",
       "      <td>4.536167</td>\n",
       "    </tr>\n",
       "    <tr>\n",
       "      <th>84</th>\n",
       "      <td>0.671022</td>\n",
       "      <td>4.536167</td>\n",
       "    </tr>\n",
       "  </tbody>\n",
       "</table>\n",
       "<p>85 rows × 2 columns</p>\n",
       "</div>"
      ],
      "text/plain": [
       "   Parameters   Calibration\n",
       "    threshold Cost Function\n",
       "0    0.976764      4.598538\n",
       "1    0.525592      4.599320\n",
       "2    0.367782      4.728706\n",
       "3    0.640155      4.549127\n",
       "4    1.102126      4.698336\n",
       "..        ...           ...\n",
       "80   0.671030      4.536164\n",
       "81   0.671026      4.536167\n",
       "82   0.671026      4.536167\n",
       "83   0.671024      4.536167\n",
       "84   0.671022      4.536167\n",
       "\n",
       "[85 rows x 2 columns]"
      ]
     },
     "execution_count": 13,
     "metadata": {},
     "output_type": "execute_result"
    }
   ],
   "source": [
    "unc_bounds = data[data['Calibration']['Cost Function'] <= min(data['Calibration']['Cost Function'])+min(data['Calibration']['Cost Function'])*0.05]\n",
    "unc_bounds.reset_index(drop=True, inplace=True)\n",
    "unc_bounds"
   ]
  },
  {
   "cell_type": "code",
   "execution_count": 14,
   "id": "90974970-5aee-485c-b2f4-0d9f2741b48a",
   "metadata": {
    "tags": []
   },
   "outputs": [
    {
     "data": {
      "text/plain": [
       "Text(0, 0.5, 'Displacement ratio (%)')"
      ]
     },
     "execution_count": 14,
     "metadata": {},
     "output_type": "execute_result"
    },
    {
     "data": {
      "image/png": "[encoded data removed]",
      "text/plain": [
       "<Figure size 500x300 with 1 Axes>"
      ]
     },
     "metadata": {},
     "output_type": "display_data"
    }
   ],
   "source": [
    "# plot the best-fit function and the uncertainty bound\n",
    "\n",
    "import matplotlib.pyplot as plt\n",
    "from matplotlib.lines import Line2D\n",
    "\n",
    "from climada.entity import Exposures, ImpactFunc, ImpactFuncSet, ImpfTropCyclone\n",
    "\n",
    "v_thresh = .1\n",
    "\n",
    "fig = plt.figure(figsize=(5,3))\n",
    "plt.grid(visible=True, lw=.5, alpha=.5)\n",
    "\n",
    "for idx_unc in range(len(unc_bounds)):\n",
    "    impf = ImpactFunc.from_step_impf(intensity=(0,unc_bounds['Parameters']['threshold'][idx_unc],10),\n",
    "                                        haz_type='FL')\n",
    "\n",
    "    plt.plot(impf.intensity, impf.mdd*100, color='lightgrey', lw=1.5, alpha=.7)\n",
    "\n",
    "\n",
    "\n",
    "impf_opt = ImpactFunc.from_step_impf(intensity=(0,bayes_output.params['threshold'],10),\n",
    "                                    haz_type='FL')\n",
    "\n",
    "plt.grid(visible=True, lw=.5, alpha=.5)\n",
    "#plt.fill_between(impf_opt.intensity, impf_2.mdd*100, impf_4.mdd*100,\n",
    "\n",
    "\n",
    "plt.plot(impf_opt.intensity, impf_opt.mdd*100, color='royalblue', lw=2.5, label=\"Optimal impact function\")\n",
    "\n",
    "plt.legend(frameon=False)\n",
    "plt.xlim(0,4)\n",
    "plt.xlabel('Flood depth (m)')\n",
    "plt.ylim(-2,110)\n",
    "plt.ylabel('Displacement ratio (%)')"
   ]
  },
  {
   "cell_type": "markdown",
   "id": "3b1c3968-3ded-4899-9f87-5261a11f5d7b",
   "metadata": {},
   "source": [
    "#### Uncertainty quantification\n",
    "\n",
    "Here the uncertainty range of the calibration is estimated."
   ]
  },
  {
   "cell_type": "code",
   "execution_count": 15,
   "id": "a5afa96e-a30c-41e9-bf21-9df7c3e936c2",
   "metadata": {
    "tags": []
   },
   "outputs": [],
   "source": [
    "unc_output = None\n",
    "\n",
    "for idx_unc in range(len(unc_bounds)):\n",
    "    unc_params = unc_bounds.iloc[idx_unc, :2].to_frame().T.reset_index(drop=True)\n",
    "    \n",
    "    impf_step = impf_set_step(unc_bounds['Parameters']['threshold'][idx_unc])\n",
    "    \n",
    "    impact = ImpactCalc(exposure, impf_step, hazard).impact()\n",
    "    imp_reg = impact.impact_at_reg(agg_regions=exposure.gdf[\"ADM2_EN\"]).reset_index(drop=True)\n",
    "    \n",
    "    if unc_output is None:\n",
    "        unc_output = pd.concat([unc_params, imp_reg], axis=1)\n",
    "    else:\n",
    "        unc_output = pd.concat([unc_output, pd.concat([unc_params, imp_reg], axis=1)], axis=0)\n",
    "\n",
    "unc_output.reset_index(drop=True, inplace=True)"
   ]
  },
  {
   "cell_type": "code",
   "execution_count": 16,
   "id": "3505d097-19e6-4b76-b7ba-3eb4629ea394",
   "metadata": {
    "tags": []
   },
   "outputs": [],
   "source": [
    "adm2_range_dict = {}\n",
    "\n",
    "for adm2 in unc_output.columns[2:]:\n",
    "    adm2_range_dict[adm2] = [unc_output[adm2].min(), unc_output[adm2].max()]\n",
    "    \n",
    "adm2_range = pd.DataFrame(adm2_range_dict).T.rename(columns={0:'unc_min', 1:'unc_max'})"
   ]
  },
  {
   "cell_type": "code",
   "execution_count": 17,
   "id": "9648fabd-c585-42bd-ae79-24c897302a6e",
   "metadata": {
    "tags": []
   },
   "outputs": [],
   "source": [
    "impf_opt = impf_set_step(bayes_output.params['threshold'])\n",
    "impact_opt = ImpactCalc(exposure, impf_opt, hazard).impact()\n",
    "imp_reg_opt = impact_opt.impact_at_reg(agg_regions=exposure.gdf[\"ADM2_EN\"]).T.rename(columns={1: 'model_opt'})\n",
    "\n",
    "pdma_report = df.T.rename(columns={1: 'PDMA_report'})\n",
    "\n",
    "df_plot = pd.concat([pdma_report, imp_reg_opt, adm2_range], axis=1)\n",
    "df_plot.sort_values(by='PDMA_report', ascending=False, inplace=True)"
   ]
  },
  {
   "cell_type": "markdown",
   "id": "166d5346-1003-42d2-9259-d9d2bfcb66ce",
   "metadata": {
    "tags": []
   },
   "source": [
    "## Plotting the estimated displacement using the best-fitted function and the uncertainty bounds (Fig. 2b)"
   ]
  },
  {
   "cell_type": "code",
   "execution_count": 18,
   "id": "8a7444f0-5c4d-480c-ac9d-fa27bc1f8105",
   "metadata": {
    "tags": []
   },
   "outputs": [
    {
     "data": {
      "text/plain": [
       "<matplotlib.legend.Legend at 0x7fed5491bd60>"
      ]
     },
     "execution_count": 18,
     "metadata": {},
     "output_type": "execute_result"
    },
    {
     "data": {
      "image/png": "[encoded data removed]",
      "text/plain": [
       "<Figure size 1200x500 with 1 Axes>"
      ]
     },
     "metadata": {},
     "output_type": "display_data"
    }
   ],
   "source": [
    "bar_width=0.5\n",
    "\n",
    "fig = plt.figure(figsize=(12,5))\n",
    "plt.grid(visible=True, lw=.5, alpha=.5)\n",
    "plt.grid(which='minor', axis='y',\n",
    "         lw=.3, alpha=.3)\n",
    "\n",
    "# plot the range of the step function prediction\n",
    "plt.bar(np.arange(len(df_plot)), \n",
    "        height=df_plot['unc_max']-df_plot['unc_min'],\n",
    "        bottom=df_plot['unc_min'],\n",
    "        width=bar_width,\n",
    "        color='lightblue',\n",
    "        alpha=0.8,\n",
    "        label='Model prediction range from\\n impact function calibration uncertainty')\n",
    "\n",
    "plt.scatter(np.arange(len(df_plot)),\n",
    "            df_plot[\"model_opt\"],\n",
    "            color='steelblue',\n",
    "            marker=0,\n",
    "            label='Optimal impact function')\n",
    "\n",
    "plt.scatter(np.arange(len(df_plot)),\n",
    "            df_plot[\"model_opt\"],\n",
    "            color='steelblue',\n",
    "            marker=1)\n",
    "\n",
    "\n",
    "# plot the reported number\n",
    "plt.scatter(np.arange(len(df_plot)),\n",
    "            df_plot['PDMA_report'],\n",
    "            color='k',\n",
    "            marker='x',\n",
    "            label='PDMA report')\n",
    "    \n",
    "### plot the total value as well\n",
    "plt.axvspan(23.75, 25.2, color='lightgrey', alpha=0.65, lw=0)\n",
    "plt.bar(24.5,\n",
    "        height=df_plot['unc_max'].sum()-df_plot['unc_min'].sum(),\n",
    "        bottom=df_plot['unc_min'].sum(),\n",
    "        width=bar_width,\n",
    "        color='#6090A7',\n",
    "       alpha=.7)\n",
    "\n",
    "plt.scatter(24.5,\n",
    "            df_plot[\"model_opt\"].sum(),\n",
    "            color='steelblue',\n",
    "            marker=0)\n",
    "\n",
    "plt.scatter(24.5,\n",
    "            df_plot[\"model_opt\"].sum(),\n",
    "            color='steelblue',\n",
    "            marker=1)\n",
    "\n",
    "plt.scatter(24.5,\n",
    "            df_plot['PDMA_report'].sum(),\n",
    "            color='k',\n",
    "            marker='x',\n",
    "            alpha=.8)\n",
    "    \n",
    "#plt.ylim([0, 200000])\n",
    "plt.yscale(\"log\")\n",
    "plt.xlim([-0.7, 25.2])\n",
    "plt.ylabel('No. of displacement')\n",
    "plt.xticks(np.append(np.arange(len(df_plot)), [24.5]), \n",
    "           labels=np.append(df_plot.index.to_numpy(), ['TOTAL']), rotation=90)\n",
    "#plt.hlines(100, -0.7, 24.7, linestyle='--', lw=.7, color='k')\n",
    "plt.legend(ncol=3, frameon=False, loc='upper center')"
   ]
  },
  {
   "cell_type": "code",
   "execution_count": null,
   "id": "15718bb1-4e2b-4bb6-9e47-a99a666030d5",
   "metadata": {},
   "outputs": [],
   "source": []
  }
 ],
 "metadata": {
  "kernelspec": {
   "display_name": "Python 3 (ipykernel)",
   "language": "python",
   "name": "python3"
  },
  "language_info": {
   "codemirror_mode": {
    "name": "ipython",
    "version": 3
   },
   "file_extension": ".py",
   "mimetype": "text/x-python",
   "name": "python",
   "nbconvert_exporter": "python",
   "pygments_lexer": "ipython3",
   "version": "3.9.19"
  }
 },
 "nbformat": 4,
 "nbformat_minor": 5
}
